{
  "nbformat": 4,
  "nbformat_minor": 0,
  "metadata": {
    "colab": {
      "name": "project5.ipynb",
      "provenance": [],
      "collapsed_sections": [],
      "authorship_tag": "ABX9TyOG56dYxnG13x21PBl/sm84",
      "include_colab_link": true
    },
    "kernelspec": {
      "name": "python3",
      "display_name": "Python 3"
    }
  },
  "cells": [
    {
      "cell_type": "markdown",
      "metadata": {
        "id": "view-in-github",
        "colab_type": "text"
      },
      "source": [
        "<a href=\"https://colab.research.google.com/github/szymbor2/ATMS597-Project5-GroupG/blob/master/project5.ipynb\" target=\"_parent\"><img src=\"https://colab.research.google.com/assets/colab-badge.svg\" alt=\"Open In Colab\"/></a>"
      ]
    },
    {
      "cell_type": "markdown",
      "metadata": {
        "id": "hNRwldWtSF7f",
        "colab_type": "text"
      },
      "source": [
        "<b> Imports </b>"
      ]
    },
    {
      "cell_type": "code",
      "metadata": {
        "id": "XNJfSw0nJp0Y",
        "colab_type": "code",
        "outputId": "0962b30c-d911-41da-f956-22297e45a726",
        "colab": {
          "base_uri": "https://localhost:8080/",
          "height": 122
        }
      },
      "source": [
        "from google.colab import drive\n",
        "drive.mount('/content/drive')\n",
        "import glob\n",
        "import pandas as pd\n",
        "import numpy as np\n",
        "import datetime\n",
        "from sklearn.linear_model import LogisticRegression\n",
        "\n",
        "YOUR_DIRECTORY = '/content/drive/My Drive/Colab Notebooks/ATMS597/project5/'"
      ],
      "execution_count": 2,
      "outputs": [
        {
          "output_type": "stream",
          "text": [
            "Go to this URL in a browser: https://accounts.google.com/o/oauth2/auth?client_id=947318989803-6bn6qk8qdgf4n4g3pfee6491hc0brc4i.apps.googleusercontent.com&redirect_uri=urn%3aietf%3awg%3aoauth%3a2.0%3aoob&response_type=code&scope=email%20https%3a%2f%2fwww.googleapis.com%2fauth%2fdocs.test%20https%3a%2f%2fwww.googleapis.com%2fauth%2fdrive%20https%3a%2f%2fwww.googleapis.com%2fauth%2fdrive.photos.readonly%20https%3a%2f%2fwww.googleapis.com%2fauth%2fpeopleapi.readonly\n",
            "\n",
            "Enter your authorization code:\n",
            "··········\n",
            "Mounted at /content/drive\n"
          ],
          "name": "stdout"
        }
      ]
    },
    {
      "cell_type": "markdown",
      "metadata": {
        "id": "tDooGW0GSIxn",
        "colab_type": "text"
      },
      "source": [
        "<b> Get Data </b>"
      ]
    },
    {
      "cell_type": "code",
      "metadata": {
        "id": "7JtfbIjQSHlw",
        "colab_type": "code",
        "outputId": "4281c9d8-d9fc-4673-a227-dcee22f1f649",
        "colab": {
          "base_uri": "https://localhost:8080/",
          "height": 241
        }
      },
      "source": [
        "!wget ftp://ftp.ncdc.noaa.gov/pub/data/asos-fivemin/6401-{2000..2019}/64010KSTC{2000..2019}{01..12}.dat\n",
        "!cp *.dat YOUR_DIRECTORY + 'project5_data/'"
      ],
      "execution_count": 0,
      "outputs": [
        {
          "output_type": "stream",
          "text": [
            "--2020-04-16 19:19:02--  ftp://ftp.ncdc.noaa.gov/pub/data/asos-fivemin/6401-2000/64010KSCT200001.dat\n",
            "           => ‘64010KSCT200001.dat’\n",
            "Resolving ftp.ncdc.noaa.gov (ftp.ncdc.noaa.gov)... 205.167.25.101, 2610:20:8040:2::101\n",
            "Connecting to ftp.ncdc.noaa.gov (ftp.ncdc.noaa.gov)|205.167.25.101|:21... connected.\n",
            "Logging in as anonymous ... Logged in!\n",
            "==> SYST ... done.    ==> PWD ... done.\n",
            "==> TYPE I ... done.  ==> CWD (1) /pub/data/asos-fivemin/6401-2000 ... done.\n",
            "==> SIZE 64010KSCT200001.dat ... done.\n",
            "\n",
            "==> PASV ... done.    ==> RETR 64010KSCT200001.dat ... \n",
            "No such file ‘64010KSCT200001.dat’.\n",
            "\n"
          ],
          "name": "stdout"
        }
      ]
    },
    {
      "cell_type": "code",
      "metadata": {
        "id": "Ph7RcJsVSQOP",
        "colab_type": "code",
        "colab": {}
      },
      "source": [
        "import glob\n",
        "import pandas as pd\n",
        "import numpy as np\n",
        "import datetime\n",
        "\n",
        "files = sorted(glob.glob('/content/drive/My Drive/project5_data/*.dat'))\n",
        "df = pd.DataFrame([line.strip().split(' ') for line in open(files[0], 'r')])\n",
        "del df[3]\n",
        "n_cols = len(df.columns)\n",
        "columns = ['StnNo', 'ContainsDate', 'Time', \"Interval\", 'Sttn', 'UTC', 'Type', 'Wind', \"Weath/Obstr\", 'SkyCond', 'Temp',\n",
        "              'n_days', 'MSLP', 'RelHum', ' ', 'WndDir/Spd', 'WindMagnetic', 'RMK', 'AO2']\n",
        "cols_already = len(columns)\n",
        "cols_new = []\n",
        "cols_new = [np.append(cols_new,'X') for i in range(n_cols-cols_already)]\n",
        "columns = np.append(columns, cols_new)\n",
        "df.columns = columns\n",
        "\n",
        "y = 2000\n",
        "for i in range(np.shape(df)[0]-1, np.shape(df)[0]): #np.shape(df)[0]\n",
        "    day = df['ContainsDate'][i][-8:] \n",
        "    time = df['Time'][i]\n",
        "    date = datetime.datetime.strptime(day+' '+time, '%m/%d/%y %H:%M:%S')\n",
        "    (h, m, s) = time.split(':')\n",
        "    timeofday = float(int(h) * 3600 + int(m) * 60 + int(s))/(3600*24)\n",
        "    print(date)\n",
        "    print(timeofday)\n",
        "    Gusts = 0\n",
        "    Wind = 0\n",
        "    Variable_Winds = 0\n",
        "    if \"KT\" in df['Wind'][i]:\n",
        "        Wind = 1\n",
        "        Wind_Direction = int(df['Wind'][i][0:3]) # in tens of degrees from true north\n",
        "        if df['Wind'][i][0:3] == 'VRB':\n",
        "            Variable_Winds = 1\n",
        "        else:\n",
        "            Variable_Winds = 0\n",
        "        Wind_Speed = int(df['Wind'][i][3:5]) # in whole knots (two digits)\n",
        "        if df['Wind'][i][5] == 'G':\n",
        "            Gusts = 1\n",
        "            Gust_Speed = int(df['Wind'][i][6:8]) # speed in whole knots (two digits)\n",
        "    else:\n",
        "        Wind = 0\n",
        "    print('Wind, Wind_Direction, Wind_Speed, Gusts, Variable_Winds:')\n",
        "    print(Wind, Wind_Direction, Wind_Speed, Gusts, Variable_Winds)\n",
        "    Temp = 0\n",
        "    if \"/\" in df['Temp'][i]:\n",
        "        Temp = 1\n",
        "        Temperature = df['Temp'][i].split('/')[0]\n",
        "        if 'M' in Temperature:\n",
        "          Temperature = int(Temperature[1:3])\n",
        "        else:\n",
        "          Temperature = int(Temperature)\n",
        "        Dewpoint = df['Temp'][i].split('/')[1]\n",
        "        if 'M' in Dewpoint:\n",
        "          Dewpoint = int(Dewpoint[1:3])\n",
        "        else:\n",
        "          Dewpoint = int(Dewpoint) \n",
        "    else:\n",
        "        Temp = 0  \n",
        "    rhum = df['RelHum'][i]    \n",
        "    print('Temp, Temperature, Dewpoint, rhum:') \n",
        "    print(Temp, Temperature, Dewpoint, rhum) \n",
        "    \n",
        "df"
      ],
      "execution_count": 0,
      "outputs": []
    },
    {
      "cell_type": "code",
      "metadata": {
        "id": "VFdRG5NlS1kn",
        "colab_type": "code",
        "outputId": "9e3a40fd-42a5-4ada-e223-0392a3f22ed7",
        "colab": {
          "base_uri": "https://localhost:8080/",
          "height": 207
        }
      },
      "source": [
        "from itertools import islice\n",
        "with open(YOUR_DIRECTORY+'project5_data/64010KSTC201912.dat', 'r') as f:\n",
        "    head = list(islice(f, 5))\n",
        "print(head[0])\n",
        "print(head[1])\n",
        "print(head[2])\n",
        "print(head[3])\n",
        "print(head[4])"
      ],
      "execution_count": 17,
      "outputs": [
        {
          "output_type": "stream",
          "text": [
            "14926KSTC STC20191201062513412/01/19 06:25:31  5-MIN KSTC 011225Z AUTO 01013G22KT 5SM -SN BR OVC024 M03/M05 A2964 1290 85 -500 360/13G22 RMK AO2 P0001 T10281050 $\n",
            "\n",
            "14926KSTC STC20191201063013412/01/19 06:30:31  5-MIN KSTC 011230Z AUTO 36012G21KT 6SM -SN BR OVC024 M03/M05 A2964 1290 85 -500 360/12G21 RMK AO2 P0001 T10281050 $\n",
            "\n",
            "14926KSTC STC20191201063513112/01/19 06:35:31  5-MIN KSTC 011235Z AUTO 01015G24KT 8SM -SN OVC025 M03/M05 A2965 1290 85 -500 360/15G24 RMK AO2 P0001 T10281050 $\n",
            "\n",
            "14926KSTC STC20191201064013112/01/19 06:40:31  5-MIN KSTC 011240Z AUTO 01013G24KT 8SM -SN OVC025 M03/M06 A2965 1280 81 -500 010/13G24 RMK AO2 P0001 T10281056 $\n",
            "\n",
            "14926KSTC STC20191201064513112/01/19 06:45:31  5-MIN KSTC 011245Z AUTO 01013G23KT 9SM -SN OVC025 M03/M06 A2965 1280 81 -500 010/13G23 RMK AO2 P0001 T10281056 $\n",
            "\n"
          ],
          "name": "stdout"
        }
      ]
    },
    {
      "cell_type": "code",
      "metadata": {
        "id": "3nnvZyx2ZeSI",
        "colab_type": "code",
        "colab": {}
      },
      "source": [
        ""
      ],
      "execution_count": 0,
      "outputs": []
    }
  ]
}