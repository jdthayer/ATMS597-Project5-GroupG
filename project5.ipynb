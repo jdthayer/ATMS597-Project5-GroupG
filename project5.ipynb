{
  "nbformat": 4,
  "nbformat_minor": 0,
  "metadata": {
    "colab": {
      "name": "project5.ipynb",
      "provenance": [],
      "collapsed_sections": [
        "tDooGW0GSIxn"
      ],
      "authorship_tag": "ABX9TyPWr0+cOEXQWzLfQGYfoFnq",
      "include_colab_link": true
    },
    "kernelspec": {
      "name": "python3",
      "display_name": "Python 3"
    }
  },
  "cells": [
    {
      "cell_type": "markdown",
      "metadata": {
        "id": "view-in-github",
        "colab_type": "text"
      },
      "source": [
        "<a href=\"https://colab.research.google.com/github/szymbor2/ATMS597-Project5-GroupG/blob/master/project5.ipynb\" target=\"_parent\"><img src=\"https://colab.research.google.com/assets/colab-badge.svg\" alt=\"Open In Colab\"/></a>"
      ]
    },
    {
      "cell_type": "markdown",
      "metadata": {
        "id": "hNRwldWtSF7f",
        "colab_type": "text"
      },
      "source": [
        "# Import Libraries and Set Working Directory"
      ]
    },
    {
      "cell_type": "code",
      "metadata": {
        "id": "XNJfSw0nJp0Y",
        "colab_type": "code",
        "outputId": "ba8c86c9-d078-4ce2-f111-9d07c94ca5ec",
        "colab": {
          "base_uri": "https://localhost:8080/",
          "height": 105
        }
      },
      "source": [
        "from google.colab import drive\n",
        "drive.mount('/content/drive')\n",
        "import glob\n",
        "import pandas as pd\n",
        "import numpy as np\n",
        "import datetime\n",
        "from sklearn.linear_model import LogisticRegression\n",
        "!pip install wget\n",
        "import wget\n",
        "from sklearn.model_selection import train_test_split\n",
        "from sklearn.linear_model import LogisticRegression\n",
        "import copy\n",
        "from sklearn.metrics import confusion_matrix\n",
        "from datetime import datetime\n",
        "import matplotlib as mpl\n",
        "import matplotlib.pyplot as pyplot\n",
        "from sklearn import svm\n",
        "from sklearn.metrics import brier_score_loss\n",
        "from sklearn import svm\n",
        "import seaborn as sns"
      ],
      "execution_count": 39,
      "outputs": [
        {
          "output_type": "stream",
          "text": [
            "Drive already mounted at /content/drive; to attempt to forcibly remount, call drive.mount(\"/content/drive\", force_remount=True).\n",
            "Requirement already satisfied: wget in /usr/local/lib/python3.6/dist-packages (3.2)\n"
          ],
          "name": "stdout"
        },
        {
          "output_type": "stream",
          "text": [
            "/usr/local/lib/python3.6/dist-packages/statsmodels/tools/_testing.py:19: FutureWarning: pandas.util.testing is deprecated. Use the functions in the public API at pandas.testing instead.\n",
            "  import pandas.util.testing as tm\n"
          ],
          "name": "stderr"
        }
      ]
    },
    {
      "cell_type": "code",
      "metadata": {
        "id": "beYlfNXs2qS_",
        "colab_type": "code",
        "colab": {}
      },
      "source": [
        "YOUR_DIRECTORY = '/content/drive/My Drive/Colab Notebooks/ATMS597/project5/'"
      ],
      "execution_count": 0,
      "outputs": []
    },
    {
      "cell_type": "markdown",
      "metadata": {
        "id": "tDooGW0GSIxn",
        "colab_type": "text"
      },
      "source": [
        "# Get Data\n",
        "<b> Get Data </b> - Once you run this and have the data, do not need to run again."
      ]
    },
    {
      "cell_type": "code",
      "metadata": {
        "id": "7JtfbIjQSHlw",
        "colab_type": "code",
        "colab": {}
      },
      "source": [
        "# years = np.arange(2000,2021)\n",
        "# months = np.arange(1,13)\n",
        "# for y in years:\n",
        "#     print(y)\n",
        "#     for m in months:\n",
        "#         try:\n",
        "#             wget.download('ftp://ftp.ncdc.noaa.gov/pub/data/asos-fivemin/6401-'+str(y)+'/64010KSTC'+str(y)+str(m).zfill(2)+'.dat', out=YOUR_DIRECTORY+'project5_data/')\n",
        "#         except:\n",
        "#             print(\"All current files grabbed\")\n",
        "#             break"
      ],
      "execution_count": 0,
      "outputs": []
    },
    {
      "cell_type": "markdown",
      "metadata": {
        "id": "LiEgMZyLaTD8",
        "colab_type": "text"
      },
      "source": [
        "<b> Reformat files to be readable as CSVs </b> - once you have this, do not need to run again."
      ]
    },
    {
      "cell_type": "code",
      "metadata": {
        "id": "Ph7RcJsVSQOP",
        "colab_type": "code",
        "colab": {}
      },
      "source": [
        "# for yr in range(2000,2020):\n",
        "#   print('Year = ', yr)\n",
        "#   files = sorted(glob.glob(YOUR_DIRECTORY+'project5_data/64010KSTC'+str(yr)+'*.dat'))\n",
        "\n",
        "#   for ifile in range(0,len(files)):\n",
        "#       print(ifile)\n",
        "#       f = open(files[ifile], 'rb')\n",
        "#       df = pd.DataFrame([str(f.readline()).replace('\\\\n\\'','').replace('b\\'','').strip().split(' ')])\n",
        "#       for line in f:\n",
        "#           data = pd.DataFrame([str(f.readline()).replace('\\\\n\\'','').replace('b\\'','').strip().split(' ')])\n",
        "#           df = pd.concat([df, data], ignore_index=True)  \n",
        "#       # df = pd.DataFrame([line.strip().split(' ') for line in open(files[ifile], 'r')])\n",
        "#       del df[3]\n",
        "#       n_cols = len(df.columns)\n",
        "#       columns = ['StnNo', 'ContainsDate', 'Time', \"Interval\", 'Sttn', 'UTC', 'Type', 'Wind', \"Weath/Obstr\", 'SkyCond', 'Temp',\n",
        "#                     'n_days', 'MSLP', 'RelHum', ' ', 'WndDir/Spd', 'WindMagnetic', 'RMK', 'AO2']\n",
        "#       out_name = files[ifile].replace(YOUR_DIRECTORY+'project5_data/',YOUR_DIRECTORY+'project5_data/reviewed/')\n",
        "#       out = open(out_name, 'w')\n",
        "#       out.write('date'+','+'timeofday'+','+'Wind'+','+'Wind_Direction'+','+'Wind_Speed'+','+'Gusts'+','+'Variable_Winds'+','+'Temperature'+','+ \n",
        "#                         'Dewpoint'+','+'rhum'+','+'hourly'+','+'sixhourly'+','+'dayprecip'+','+'solid'+','+'liquid'+'\\n')\n",
        "#       # new_df = pd.DataFrame(columns=new_df_columns)\n",
        "#       cols_already = len(columns)\n",
        "#       cols_new = []\n",
        "#       cols_new = [np.append(cols_new,'X') for i in range(n_cols-cols_already)]\n",
        "#       columns = np.append(columns, cols_new)\n",
        "#       df.columns = columns\n",
        "\n",
        "#       for i in range(0, np.shape(df)[0]): #np.shape(df)[0]\n",
        "#           try:\n",
        "#             day = df['ContainsDate'][i][-8:] \n",
        "#             time = df['Time'][i]\n",
        "#             date = datetime.datetime.strptime(day+' '+time, '%m/%d/%y %H:%M:%S')\n",
        "#             (h, m, s) = time.split(':')\n",
        "#             timeofday = float(int(h) * 3600 + int(m) * 60 + int(s))/(3600*24)\n",
        "#             # print(date)\n",
        "#             # print(timeofday)\n",
        "#             Gusts = 0\n",
        "#             Wind = 0\n",
        "#             Variable_Winds = 0\n",
        "#             try:\n",
        "#               if \"KT\" in df['Wind'][i]:\n",
        "#                   Wind = 1\n",
        "#                   if df['Wind'][i][0:3] == 'VRB':\n",
        "#                       Variable_Winds = 1\n",
        "#                   else:\n",
        "#                       Variable_Winds = 0\n",
        "#                       Wind_Direction = int(df['Wind'][i][0:3]) # in tens of degrees from true north\n",
        "#                   Wind_Speed = int(df['Wind'][i][3:5]) # in whole knots (two digits)\n",
        "#                   if df['Wind'][i][5] == 'G':\n",
        "#                       Gusts = 1\n",
        "#                       Gust_Speed = int(df['Wind'][i][6:8]) # speed in whole knots (two digits)\n",
        "#               else:\n",
        "#                   Wind = 0\n",
        "#             except:\n",
        "#               Wind = 0\n",
        "#               Variable_Winds = 0\n",
        "#               Wind_Direction = np.nan\n",
        "#               Gusts=0\n",
        "#               Gust_Speed=0\n",
        "\n",
        "#             Temp = 0\n",
        "#             try:\n",
        "#               if \"/\" in df['Temp'][i]:\n",
        "#                   Temp = 1\n",
        "#                   Temperature = df['Temp'][i].split('/')[0]\n",
        "#                   if 'M' in Temperature:\n",
        "#                     Temperature = int(Temperature[1:3])\n",
        "#                   else:\n",
        "#                     Temperature = int(Temperature)\n",
        "#                   Dewpoint = df['Temp'][i].split('/')[1]\n",
        "#                   if 'M' in Dewpoint:\n",
        "#                     Dewpoint = int(Dewpoint[1:3])\n",
        "#                   else:\n",
        "#                     Dewpoint = int(Dewpoint) \n",
        "#               else:\n",
        "#                   Temp = 0  \n",
        "#               try:\n",
        "#                 rhum = int(df['RelHum'][i])\n",
        "#               except:\n",
        "#                 rhum = np.nan\n",
        "#               if (rhum>100):\n",
        "#                 rhum = np.nan\n",
        "#             except:\n",
        "#               Temp=0\n",
        "#               Temperature=np.nan\n",
        "#               Dewpoint=np.nan\n",
        "#               rhum=np.nan\n",
        "\n",
        "#             for n in range(cols_already, n_cols): #n_cols\n",
        "#               # for j in range(len(df.iloc[:,n])):\n",
        "#                 element = df.iloc[i,n]\n",
        "#                 try:\n",
        "#                   if element[0]=='P' or element[0]=='6' or element[0]=='7':\n",
        "#                     if element[1]=='0':\n",
        "#                       if element[0]=='P':\n",
        "#                         hourly = float(element[1:])/100.\n",
        "#                       elif element[0]=='6':\n",
        "#                         sixhourly = float(element[1:])/100.\n",
        "#                       elif element[0]=='7':\n",
        "#                         dayprecip = float(element[1:])/100.\n",
        "#                   else:\n",
        "#                     hourly = np.nan\n",
        "#                     sixhourly = np.nan\n",
        "#                     dayprecip = np.nan\n",
        "#                 except:\n",
        "#                     hourly = np.nan\n",
        "#                     sixhourly = np.nan\n",
        "#                     dayprecip = np.nan\n",
        "\n",
        "#             frozen_flags = ['SN', 'SG', 'IC', 'PL', 'GR', 'GS']\n",
        "#             liquid_flags = ['FZ', 'RA']\n",
        "#             try:\n",
        "#                 if np.logical_or(any(flags in df['Weath/Obstr'][i] for flags in frozen_flags), any(flags in df['Temp'][i] for flags in frozen_flags)):\n",
        "#                   solid = 1\n",
        "#                 elif np.logical_or(any(flags in df['Weath/Obstr'][i] for flags in liquid_flags), any(flags in df['Temp'][i] for flags in liquid_flags)):\n",
        "#                   liquid = 1\n",
        "#                 else:\n",
        "#                   solid = 0\n",
        "#                   liquid = 0\n",
        "#             except:\n",
        "#                   solid = np.nan\n",
        "#                   liquid = np.nan\n",
        "\n",
        "#             # print('Wind, Wind_Direction, Wind_Speed, Gusts, Variable_Winds, Temp, Temperature, Dewpoint, rhum, hourly, sixhourly, daily:') \n",
        "#             # print(str(date)+','+str(timeofday)+','+str(Wind)+','+str(Wind_Direction)+','+str(Wind_Speed)+','+str(Gusts)+','+str(Variable_Winds)\n",
        "#             # +','+str(Temperature)+','+str(Dewpoint)+','+str(rhum)+','+str(hourly)+','+str(sixhourly)+','+str(dayprecip)+','+str(solid)+','+str(liquid)+'\\n')\n",
        "#             out.write(str(date)+','+str(timeofday)+','+str(Wind)+','+str(Wind_Direction)+','+str(Wind_Speed)+','+str(Gusts)+','+str(Variable_Winds)\n",
        "#             +','+str(Temperature)+','+str(Dewpoint)+','+str(rhum)+','+str(hourly)+','+str(sixhourly)+','+str(dayprecip)+','+str(solid)+','+str(liquid)+'\\n')\n",
        "#           except:\n",
        "#             continue\n",
        "#       out.close()\n"
      ],
      "execution_count": 0,
      "outputs": []
    },
    {
      "cell_type": "markdown",
      "metadata": {
        "id": "VnsIcd-buDba",
        "colab_type": "text"
      },
      "source": [
        "# 1. Logistic Regression"
      ]
    },
    {
      "cell_type": "markdown",
      "metadata": {
        "id": "czekDV3DPuB1",
        "colab_type": "text"
      },
      "source": [
        "## Read in and adjust data"
      ]
    },
    {
      "cell_type": "code",
      "metadata": {
        "id": "FNV5APDYR0q8",
        "colab_type": "code",
        "colab": {
          "base_uri": "https://localhost:8080/",
          "height": 453
        },
        "outputId": "a686f628-d4ba-4604-921c-5d3a53f212c8"
      },
      "source": [
        "# Read in the file\n",
        "data = pd.read_csv(YOUR_DIRECTORY + 'data.csv')\n",
        "data['date'] = pd.to_datetime(data['date']).apply(lambda x: x.strftime('%j')) # Change date column to datetime\n",
        "\n",
        "# Drop Columns\n",
        "data.drop(columns = ['Wind', 'sixhourly', 'dayprecip', 'Gusts', 'hourly', 'solid', 'liquid', 'Variable_Winds'], inplace = True)\n",
        "\n",
        "# Drop NaNs\n",
        "data = data.filter(['date','timeofday', 'Wind_direction', 'Wind_speed', 'Temperature', 'Dewpoint', 'rhum', 'prcp_type']).dropna()\n",
        "data"
      ],
      "execution_count": 35,
      "outputs": [
        {
          "output_type": "stream",
          "text": [
            "983583\n",
            "6234\n"
          ],
          "name": "stdout"
        },
        {
          "output_type": "execute_result",
          "data": {
            "text/html": [
              "<div>\n",
              "<style scoped>\n",
              "    .dataframe tbody tr th:only-of-type {\n",
              "        vertical-align: middle;\n",
              "    }\n",
              "\n",
              "    .dataframe tbody tr th {\n",
              "        vertical-align: top;\n",
              "    }\n",
              "\n",
              "    .dataframe thead th {\n",
              "        text-align: right;\n",
              "    }\n",
              "</style>\n",
              "<table border=\"1\" class=\"dataframe\">\n",
              "  <thead>\n",
              "    <tr style=\"text-align: right;\">\n",
              "      <th></th>\n",
              "      <th>date</th>\n",
              "      <th>timeofday</th>\n",
              "      <th>Temperature</th>\n",
              "      <th>Dewpoint</th>\n",
              "      <th>rhum</th>\n",
              "      <th>prcp_type</th>\n",
              "    </tr>\n",
              "  </thead>\n",
              "  <tbody>\n",
              "    <tr>\n",
              "      <th>60960</th>\n",
              "      <td>080</td>\n",
              "      <td>0.868414</td>\n",
              "      <td>3.0</td>\n",
              "      <td>3.0</td>\n",
              "      <td>96.0</td>\n",
              "      <td>0.0</td>\n",
              "    </tr>\n",
              "    <tr>\n",
              "      <th>60961</th>\n",
              "      <td>080</td>\n",
              "      <td>0.875359</td>\n",
              "      <td>3.0</td>\n",
              "      <td>2.0</td>\n",
              "      <td>96.0</td>\n",
              "      <td>0.0</td>\n",
              "    </tr>\n",
              "    <tr>\n",
              "      <th>60962</th>\n",
              "      <td>080</td>\n",
              "      <td>0.882303</td>\n",
              "      <td>2.0</td>\n",
              "      <td>2.0</td>\n",
              "      <td>100.0</td>\n",
              "      <td>0.0</td>\n",
              "    </tr>\n",
              "    <tr>\n",
              "      <th>60963</th>\n",
              "      <td>080</td>\n",
              "      <td>0.889248</td>\n",
              "      <td>2.0</td>\n",
              "      <td>2.0</td>\n",
              "      <td>100.0</td>\n",
              "      <td>0.0</td>\n",
              "    </tr>\n",
              "    <tr>\n",
              "      <th>60964</th>\n",
              "      <td>080</td>\n",
              "      <td>0.896192</td>\n",
              "      <td>1.0</td>\n",
              "      <td>1.0</td>\n",
              "      <td>100.0</td>\n",
              "      <td>0.0</td>\n",
              "    </tr>\n",
              "    <tr>\n",
              "      <th>...</th>\n",
              "      <td>...</td>\n",
              "      <td>...</td>\n",
              "      <td>...</td>\n",
              "      <td>...</td>\n",
              "      <td>...</td>\n",
              "      <td>...</td>\n",
              "    </tr>\n",
              "    <tr>\n",
              "      <th>981232</th>\n",
              "      <td>346</td>\n",
              "      <td>0.375359</td>\n",
              "      <td>16.0</td>\n",
              "      <td>13.0</td>\n",
              "      <td>80.0</td>\n",
              "      <td>1.0</td>\n",
              "    </tr>\n",
              "    <tr>\n",
              "      <th>981237</th>\n",
              "      <td>346</td>\n",
              "      <td>0.410081</td>\n",
              "      <td>15.0</td>\n",
              "      <td>12.0</td>\n",
              "      <td>80.0</td>\n",
              "      <td>1.0</td>\n",
              "    </tr>\n",
              "    <tr>\n",
              "      <th>983181</th>\n",
              "      <td>360</td>\n",
              "      <td>0.847581</td>\n",
              "      <td>7.0</td>\n",
              "      <td>4.0</td>\n",
              "      <td>81.0</td>\n",
              "      <td>1.0</td>\n",
              "    </tr>\n",
              "    <tr>\n",
              "      <th>983447</th>\n",
              "      <td>364</td>\n",
              "      <td>0.566331</td>\n",
              "      <td>7.0</td>\n",
              "      <td>4.0</td>\n",
              "      <td>81.0</td>\n",
              "      <td>1.0</td>\n",
              "    </tr>\n",
              "    <tr>\n",
              "      <th>983448</th>\n",
              "      <td>364</td>\n",
              "      <td>0.573275</td>\n",
              "      <td>7.0</td>\n",
              "      <td>4.0</td>\n",
              "      <td>81.0</td>\n",
              "      <td>1.0</td>\n",
              "    </tr>\n",
              "  </tbody>\n",
              "</table>\n",
              "<p>6234 rows × 6 columns</p>\n",
              "</div>"
            ],
            "text/plain": [
              "       date  timeofday  Temperature  Dewpoint   rhum  prcp_type\n",
              "60960   080   0.868414          3.0       3.0   96.0        0.0\n",
              "60961   080   0.875359          3.0       2.0   96.0        0.0\n",
              "60962   080   0.882303          2.0       2.0  100.0        0.0\n",
              "60963   080   0.889248          2.0       2.0  100.0        0.0\n",
              "60964   080   0.896192          1.0       1.0  100.0        0.0\n",
              "...     ...        ...          ...       ...    ...        ...\n",
              "981232  346   0.375359         16.0      13.0   80.0        1.0\n",
              "981237  346   0.410081         15.0      12.0   80.0        1.0\n",
              "983181  360   0.847581          7.0       4.0   81.0        1.0\n",
              "983447  364   0.566331          7.0       4.0   81.0        1.0\n",
              "983448  364   0.573275          7.0       4.0   81.0        1.0\n",
              "\n",
              "[6234 rows x 6 columns]"
            ]
          },
          "metadata": {
            "tags": []
          },
          "execution_count": 35
        }
      ]
    },
    {
      "cell_type": "markdown",
      "metadata": {
        "id": "DCzV8kR1KDtG",
        "colab_type": "text"
      },
      "source": [
        "## Model Features"
      ]
    },
    {
      "cell_type": "code",
      "metadata": {
        "id": "PfGaVcwpuGGN",
        "colab_type": "code",
        "colab": {}
      },
      "source": [
        "labels = data['prcp_type'].to_numpy()\n",
        "feats = data.drop(columns = ['prcp_type']).to_numpy()"
      ],
      "execution_count": 0,
      "outputs": []
    },
    {
      "cell_type": "markdown",
      "metadata": {
        "id": "vRjqFonNNhuk",
        "colab_type": "text"
      },
      "source": [
        "## Make training and test sets"
      ]
    },
    {
      "cell_type": "code",
      "metadata": {
        "id": "bOB2_-JYuGKG",
        "colab_type": "code",
        "colab": {}
      },
      "source": [
        "train_features, test_features, train_labels, test_labels = train_test_split(feats, labels, test_size = 0.3, random_state = 42)"
      ],
      "execution_count": 0,
      "outputs": []
    },
    {
      "cell_type": "markdown",
      "metadata": {
        "id": "qX2MMbq7WESI",
        "colab_type": "text"
      },
      "source": [
        "## Train Model"
      ]
    },
    {
      "cell_type": "code",
      "metadata": {
        "id": "xFbdguBSWEYt",
        "colab_type": "code",
        "colab": {
          "base_uri": "https://localhost:8080/",
          "height": 102
        },
        "outputId": "7c91e874-f9da-4e66-ad1c-94dc064851fb"
      },
      "source": [
        "clf = LogisticRegression(max_iter=10e10, random_state=42)\n",
        "clf.fit(train_features, train_labels)"
      ],
      "execution_count": 51,
      "outputs": [
        {
          "output_type": "execute_result",
          "data": {
            "text/plain": [
              "LogisticRegression(C=1.0, class_weight=None, dual=False, fit_intercept=True,\n",
              "                   intercept_scaling=1, l1_ratio=None, max_iter=100000000000.0,\n",
              "                   multi_class='auto', n_jobs=None, penalty='l2',\n",
              "                   random_state=42, solver='lbfgs', tol=0.0001, verbose=0,\n",
              "                   warm_start=False)"
            ]
          },
          "metadata": {
            "tags": []
          },
          "execution_count": 51
        }
      ]
    },
    {
      "cell_type": "markdown",
      "metadata": {
        "id": "vnlHmM0FWN-V",
        "colab_type": "text"
      },
      "source": [
        "## Calculate Brier Skill Score for Training and Testing"
      ]
    },
    {
      "cell_type": "code",
      "metadata": {
        "id": "LJ7pdxkuWOFU",
        "colab_type": "code",
        "colab": {
          "base_uri": "https://localhost:8080/",
          "height": 51
        },
        "outputId": "8637b6c1-e817-49c0-8325-d2b523daf236"
      },
      "source": [
        "print('Training Score: ' + str(brier_score_loss(train_labels, clf.predict(train_features))))\n",
        "print('Testing score: ' + str(brier_score_loss(test_labels, clf.predict(test_features))))"
      ],
      "execution_count": 52,
      "outputs": [
        {
          "output_type": "stream",
          "text": [
            "Training Score: 0.20169608067843228\n",
            "Testing score: 0.22661678246926778\n"
          ],
          "name": "stdout"
        }
      ]
    },
    {
      "cell_type": "markdown",
      "metadata": {
        "id": "kzT6JM8hWW__",
        "colab_type": "text"
      },
      "source": [
        "## Confusion Matrix"
      ]
    },
    {
      "cell_type": "code",
      "metadata": {
        "id": "Uda4MWmxWZLo",
        "colab_type": "code",
        "colab": {
          "base_uri": "https://localhost:8080/",
          "height": 297
        },
        "outputId": "5bd8431b-9ba2-4d63-bb09-9504d560bcf9"
      },
      "source": [
        "# Create Matrix\n",
        "matrix = confusion_matrix(test_labels, clf.predict(test_features))\n",
        "\n",
        "# Plot matrix\n",
        "labels = ['liquid', 'solid']\n",
        "sns.heatmap(matrix.T, square=True, annot=True, fmt='d', cbar=False, xticklabels=labels, yticklabels=labels, cmap='PRGn')\n",
        "pyplot.title('Precipitation Type')\n",
        "pyplot.xlabel('Observations')\n",
        "pyplot.ylabel('Predicted')\n",
        "pyplot.tight_layout()\n",
        "pyplot.savefig(YOUR_DIRECTORY + 'logregression_confmatrix.png', dpi=300)"
      ],
      "execution_count": 46,
      "outputs": [
        {
          "output_type": "display_data",
          "data": {
            "image/png": "[encoded data removed]",
            "text/plain": [
              "<Figure size 432x288 with 1 Axes>"
            ]
          },
          "metadata": {
            "tags": [],
            "needs_background": "light"
          }
        }
      ]
    },
    {
      "cell_type": "markdown",
      "metadata": {
        "id": "yaBFS1BCuGUK",
        "colab_type": "text"
      },
      "source": [
        "# 2. Random Forest Regression"
      ]
    },
    {
      "cell_type": "code",
      "metadata": {
        "id": "3SevurAZuGIr",
        "colab_type": "code",
        "colab": {}
      },
      "source": [
        ""
      ],
      "execution_count": 0,
      "outputs": []
    },
    {
      "cell_type": "code",
      "metadata": {
        "id": "xC-LSYsmuGEr",
        "colab_type": "code",
        "colab": {}
      },
      "source": [
        ""
      ],
      "execution_count": 0,
      "outputs": []
    },
    {
      "cell_type": "markdown",
      "metadata": {
        "id": "NMhSeI2267nH",
        "colab_type": "text"
      },
      "source": [
        "## SVM"
      ]
    },
    {
      "cell_type": "code",
      "metadata": {
        "id": "b-WJjTi568Yp",
        "colab_type": "code",
        "colab": {
          "base_uri": "https://localhost:8080/",
          "height": 51
        },
        "outputId": "f4230f8d-49e1-49f8-cc3a-4f4442372d68"
      },
      "source": [
        "svmc = svm.SVC()\n",
        "svmc.fit(train_features, train_labels)\n",
        "\n",
        "print('Training Score: ' + str(brier_score_loss(train_labels, svmc.predict(train_features))))\n",
        "print('Testing score: ' + str(brier_score_loss(test_labels, svmc.predict(test_features))))"
      ],
      "execution_count": 38,
      "outputs": [
        {
          "output_type": "stream",
          "text": [
            "Training Score: 0.09993123997249599\n",
            "Testing score: 0.10582576162479958\n"
          ],
          "name": "stdout"
        }
      ]
    },
    {
      "cell_type": "code",
      "metadata": {
        "id": "04SVGU9P69hG",
        "colab_type": "code",
        "colab": {}
      },
      "source": [
        ""
      ],
      "execution_count": 0,
      "outputs": []
    }
  ]
}